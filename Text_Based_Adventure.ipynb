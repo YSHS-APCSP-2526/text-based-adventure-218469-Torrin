{
  "nbformat": 4,
  "nbformat_minor": 0,
  "metadata": {
    "colab": {
      "provenance": [],
      "include_colab_link": true
    },
    "kernelspec": {
      "name": "python3",
      "display_name": "Python 3"
    },
    "language_info": {
      "name": "python"
    }
  },
  "cells": [
    {
      "cell_type": "markdown",
      "metadata": {
        "id": "view-in-github",
        "colab_type": "text"
      },
      "source": [
        "<a href=\"https://colab.research.google.com/github/YSHS-APCSP-2526/text-based-adventure-218469-Torrin/blob/main/Text_Based_Adventure.ipynb\" target=\"_parent\"><img src=\"https://colab.research.google.com/assets/colab-badge.svg\" alt=\"Open In Colab\"/></a>"
      ]
    },
    {
      "cell_type": "markdown",
      "source": [
        "#Requirements for text based adventure\n",
        "1. You must have at least 2 different \"paths\" that are at least 4 decisions in length\n",
        "2. Include an element of randomness (from the random library)\n",
        "3. Include a list that is core to the text based adventure\n",
        "4. Include a function that is called within your program that includes a while loop, and a parameter that influences a conditional statement in your function.\n",
        "5. Commented Code.\n",
        "6. A [digital flowchart](https://docs.google.com/document/d/1p2k3wL6gzjYWBuWxwEQptmbbOZZNsQrthlC12SNtYgY/edit?usp=sharing) that follows accepted symbols for representing code. You can use google slides or [draw.io](https://www.drawio.com/) for the flowchart."
      ],
      "metadata": {
        "id": "zpSmche7G_jy"
      }
    },
    {
      "cell_type": "code",
      "source": [
        "def intro():\n",
        "  response = input(\"You are running away from a killer through the forest, do you to hide or keep running: hide or keep running: \")\n",
        "  return response\n",
        "def next():\n",
        "  response = input(\"As you are running you can you could go into a old cabin: keep running or old cabin: \")\n",
        "  return response\n",
        "def run():\n",
        "  response = input(\"You find a road after running for a while: turn back, keep running, call for help: \")\n",
        "  return response"
      ],
      "metadata": {
        "id": "DToswc3clKpf"
      },
      "execution_count": 14,
      "outputs": []
    },
    {
      "cell_type": "code",
      "source": [
        "import random\n",
        "\n",
        "def randomDice():\n",
        "    roll = random.randint(1, 10)\n",
        "    return roll\n",
        "print(randomDice())"
      ],
      "metadata": {
        "colab": {
          "base_uri": "https://localhost:8080/"
        },
        "id": "DjXGTvvAGMPf",
        "outputId": "8a8613ae-85da-4228-9b79-f7d4124f0cac"
      },
      "execution_count": 54,
      "outputs": [
        {
          "output_type": "stream",
          "name": "stdout",
          "text": [
            "6\n"
          ]
        }
      ]
    },
    {
      "cell_type": "code",
      "source": [
        "def choice1(response):\n",
        "  print(response)\n",
        "  if response ==\"keep running\":\n",
        "    print(\"you keep running\")\n",
        "  else:\n",
        "    print(\"the killer findes you (RESTART).\")\n",
        "def choice2(response):\n",
        "  print(response)\n",
        "  if response ==\"old cabin\":\n",
        "    print(\"you go inside the old cabin\")\n",
        "  else:\n",
        "    print(\"you keep running\")\n",
        "def choice3(response):\n",
        "  print(response)\n",
        "  if response ==\"turn back\" and randomDice <= 5:\n",
        "    print(\"you turn back and run right into the killer (RESTART).\")\n",
        "  elif response ==\"keep running\":\n",
        "    print(\"you run right into trafic and get hit by 1 semi and two SUV's (RESTART).\")\n",
        "  else:\n",
        "    print(\"you call for help and someone pulles over to give you a ride. You escaped.\")"
      ],
      "metadata": {
        "id": "_EdosxmH81_Y"
      },
      "execution_count": 55,
      "outputs": []
    },
    {
      "cell_type": "code",
      "source": [
        "def main():\n",
        "  response = intro()\n",
        "  choice1(response)\n",
        "  response = next()\n",
        "  choice2(response)\n",
        "  response = run()\n",
        "  choice3(response)"
      ],
      "metadata": {
        "id": "LQuG-KfJlMj3"
      },
      "execution_count": 25,
      "outputs": []
    },
    {
      "cell_type": "code",
      "source": [
        "#x=0\n",
        "\n",
        "#while x < 5:\n",
        "  #print(\"hello\")\n",
        "  #x = x +1"
      ],
      "metadata": {
        "id": "S-XoFWjaBsd6"
      },
      "execution_count": 4,
      "outputs": []
    },
    {
      "cell_type": "code",
      "source": [
        "#def responseValidator(response):\n",
        "  #while response !=\"yes\" and response !=\"no\":\n",
        "    #response = input(\"Invalid Response: please type yes or no: \")\n",
        "   # return response"
      ],
      "metadata": {
        "id": "ggIKVZurCaYS"
      },
      "execution_count": null,
      "outputs": []
    },
    {
      "cell_type": "code",
      "source": [
        "#def choice1():\n",
        "  #response1 = input(\"do you agree? yes or no\")\n",
        "  #response1 = responseValidator(response1)\n",
        "  #return response1"
      ],
      "metadata": {
        "id": "siH-d9k8DPFk"
      },
      "execution_count": null,
      "outputs": []
    },
    {
      "cell_type": "code",
      "source": [
        "main()"
      ],
      "metadata": {
        "colab": {
          "base_uri": "https://localhost:8080/",
          "height": 445
        },
        "id": "gNSbWwYo6XHT",
        "outputId": "0800f266-7a51-4da1-d5b1-f72578fc6786"
      },
      "execution_count": 50,
      "outputs": [
        {
          "output_type": "stream",
          "name": "stdout",
          "text": [
            "You are running away from a killer through the forest, do you to hide or keep running: hide or keep running: keep running\n",
            "keep running\n",
            "you keep running\n",
            "As you are running you can you could go into a old cabin: keep running or old cabin: keep running\n",
            "keep running\n",
            "you keep running\n",
            "You find a road after running for a while: turn back, keep running, call for help: turn back\n",
            "turn back\n"
          ]
        },
        {
          "output_type": "error",
          "ename": "TypeError",
          "evalue": "'<=' not supported between instances of 'function' and 'int'",
          "traceback": [
            "\u001b[0;31m---------------------------------------------------------------------------\u001b[0m",
            "\u001b[0;31mTypeError\u001b[0m                                 Traceback (most recent call last)",
            "\u001b[0;32m/tmp/ipython-input-451043146.py\u001b[0m in \u001b[0;36m<cell line: 0>\u001b[0;34m()\u001b[0m\n\u001b[0;32m----> 1\u001b[0;31m \u001b[0mmain\u001b[0m\u001b[0;34m(\u001b[0m\u001b[0;34m)\u001b[0m\u001b[0;34m\u001b[0m\u001b[0;34m\u001b[0m\u001b[0m\n\u001b[0m",
            "\u001b[0;32m/tmp/ipython-input-2308868938.py\u001b[0m in \u001b[0;36mmain\u001b[0;34m()\u001b[0m\n\u001b[1;32m      5\u001b[0m   \u001b[0mchoice2\u001b[0m\u001b[0;34m(\u001b[0m\u001b[0mresponse\u001b[0m\u001b[0;34m)\u001b[0m\u001b[0;34m\u001b[0m\u001b[0;34m\u001b[0m\u001b[0m\n\u001b[1;32m      6\u001b[0m   \u001b[0mresponse\u001b[0m \u001b[0;34m=\u001b[0m \u001b[0mrun\u001b[0m\u001b[0;34m(\u001b[0m\u001b[0;34m)\u001b[0m\u001b[0;34m\u001b[0m\u001b[0;34m\u001b[0m\u001b[0m\n\u001b[0;32m----> 7\u001b[0;31m   \u001b[0mchoice3\u001b[0m\u001b[0;34m(\u001b[0m\u001b[0mresponse\u001b[0m\u001b[0;34m)\u001b[0m\u001b[0;34m\u001b[0m\u001b[0;34m\u001b[0m\u001b[0m\n\u001b[0m",
            "\u001b[0;32m/tmp/ipython-input-172124477.py\u001b[0m in \u001b[0;36mchoice3\u001b[0;34m(response)\u001b[0m\n\u001b[1;32m     13\u001b[0m \u001b[0;32mdef\u001b[0m \u001b[0mchoice3\u001b[0m\u001b[0;34m(\u001b[0m\u001b[0mresponse\u001b[0m\u001b[0;34m)\u001b[0m\u001b[0;34m:\u001b[0m\u001b[0;34m\u001b[0m\u001b[0;34m\u001b[0m\u001b[0m\n\u001b[1;32m     14\u001b[0m   \u001b[0mprint\u001b[0m\u001b[0;34m(\u001b[0m\u001b[0mresponse\u001b[0m\u001b[0;34m)\u001b[0m\u001b[0;34m\u001b[0m\u001b[0;34m\u001b[0m\u001b[0m\n\u001b[0;32m---> 15\u001b[0;31m   \u001b[0;32mif\u001b[0m \u001b[0mresponse\u001b[0m \u001b[0;34m==\u001b[0m\u001b[0;34m\"turn back\"\u001b[0m \u001b[0;32mand\u001b[0m \u001b[0mrandomDice\u001b[0m \u001b[0;34m<=\u001b[0m \u001b[0;36m5\u001b[0m\u001b[0;34m:\u001b[0m\u001b[0;34m\u001b[0m\u001b[0;34m\u001b[0m\u001b[0m\n\u001b[0m\u001b[1;32m     16\u001b[0m     \u001b[0mprint\u001b[0m\u001b[0;34m(\u001b[0m\u001b[0;34m\"you turn back and run right into the killer (RESTART).\"\u001b[0m\u001b[0;34m)\u001b[0m\u001b[0;34m\u001b[0m\u001b[0;34m\u001b[0m\u001b[0m\n\u001b[1;32m     17\u001b[0m   \u001b[0;32mif\u001b[0m \u001b[0mresponse\u001b[0m \u001b[0;34m==\u001b[0m\u001b[0;34m\"turn back\"\u001b[0m \u001b[0;32mand\u001b[0m \u001b[0mrandomDice\u001b[0m \u001b[0;34m>=\u001b[0m\u001b[0;36m6\u001b[0m\u001b[0;34m:\u001b[0m\u001b[0;34m\u001b[0m\u001b[0;34m\u001b[0m\u001b[0m\n",
            "\u001b[0;31mTypeError\u001b[0m: '<=' not supported between instances of 'function' and 'int'"
          ]
        }
      ]
    }
  ]
}