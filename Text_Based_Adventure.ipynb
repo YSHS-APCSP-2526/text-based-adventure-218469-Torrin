{
  "nbformat": 4,
  "nbformat_minor": 0,
  "metadata": {
    "colab": {
      "provenance": [],
      "include_colab_link": true
    },
    "kernelspec": {
      "name": "python3",
      "display_name": "Python 3"
    },
    "language_info": {
      "name": "python"
    }
  },
  "cells": [
    {
      "cell_type": "markdown",
      "metadata": {
        "id": "view-in-github",
        "colab_type": "text"
      },
      "source": [
        "<a href=\"https://colab.research.google.com/github/YSHS-APCSP-2526/text-based-adventure-218469-Torrin/blob/main/Text_Based_Adventure.ipynb\" target=\"_parent\"><img src=\"https://colab.research.google.com/assets/colab-badge.svg\" alt=\"Open In Colab\"/></a>"
      ]
    },
    {
      "cell_type": "markdown",
      "source": [
        "#Requirements for text based adventure\n",
        "1. You must have at least 2 different \"paths\" that are at least 4 decisions in length\n",
        "2. Include an element of randomness (from the random library)\n",
        "3. Include a list that is core to the text based adventure\n",
        "4. Include a function that is called within your program that includes a while loop, and a parameter that influences a conditional statement in your function.\n",
        "5. Commented Code.\n",
        "6. A [digital flowchart](https://docs.google.com/document/d/1p2k3wL6gzjYWBuWxwEQptmbbOZZNsQrthlC12SNtYgY/edit?usp=sharing) that follows accepted symbols for representing code. You can use google slides or [draw.io](https://www.drawio.com/) for the flowchart."
      ],
      "metadata": {
        "id": "zpSmche7G_jy"
      }
    },
    {
      "cell_type": "code",
      "source": [
        "def intro():\n",
        "  response = input(\"You are running from a killer through the forest, do you to hide or keep running: hide or keep running: \")\n",
        "  return response\n",
        "def next():\n",
        "  response = input(\"As you are running you can you could go into a old cabin: keep running or old cabin: \")\n",
        "  return response\n",
        "def run():\n",
        "  response = input(\"You find a road after running for a while: turn back, keep running, call for help: \")\n",
        "  return response\n",
        "def cabin():\n",
        "  response = input(\"you enter the cabin you have a choice of wepones to fight back: melee or ranged: \")\n",
        "  return response"
      ],
      "metadata": {
        "id": "DToswc3clKpf"
      },
      "execution_count": 22,
      "outputs": []
    },
    {
      "cell_type": "code",
      "source": [
        "import random\n",
        "\n",
        "def randomDice():\n",
        "    roll = random.randint(1, 10)\n",
        "    return roll\n"
      ],
      "metadata": {
        "id": "DjXGTvvAGMPf"
      },
      "execution_count": 7,
      "outputs": []
    },
    {
      "cell_type": "code",
      "source": [
        "def choice1(response):\n",
        "  print(response)\n",
        "  if response ==\"keep running\":\n",
        "    print(\"you keep running\")\n",
        "  else:\n",
        "    print(\"the killer findes you (RESTART).\")\n",
        "    main()\n",
        "def choice2(response):\n",
        "  print(response)\n",
        "  if response ==\"old cabin\":\n",
        "    print(\"you go inside the old cabin\")\n",
        "    return response\n",
        "  else:\n",
        "    print(\"you keep running\")\n",
        "    return response\n",
        "def choice3(response):\n",
        "  print(response)\n",
        "  roll = randomDice()\n",
        "  print(roll)\n",
        "  if response ==\"turn back\" and roll <= 5:\n",
        "    print(\"you turn back and run right into the killer (RESTART).\")\n",
        "  elif response ==\"turn back\" and roll > 5:\n",
        "    main()\n",
        "    print(\"you run back to where you started\")\n",
        "    main()\n",
        "  elif response ==\"keep running\":\n",
        "    print(\"you run right into trafic and get hit by 1 semi and two SUV's (RESTART).\")\n",
        "    main()\n",
        "  else:\n",
        "    print(\"you call for help and someone pulles over to give you a ride. You escaped.\")"
      ],
      "metadata": {
        "id": "_EdosxmH81_Y"
      },
      "execution_count": 14,
      "outputs": []
    },
    {
      "cell_type": "code",
      "source": [
        "def main():\n",
        "  response = intro()\n",
        "  choice1(response)\n",
        "  response = next()\n",
        "\n",
        "  if response ==\"old cabin\":\n",
        "    cabin()\n",
        "\n",
        "  else:\n",
        "    choice2(response)\n",
        "    response = run()\n",
        "    choice3(response)"
      ],
      "metadata": {
        "id": "LQuG-KfJlMj3"
      },
      "execution_count": 39,
      "outputs": []
    },
    {
      "cell_type": "code",
      "source": [
        "!pip install pyfiglet"
      ],
      "metadata": {
        "id": "B0tQRAUFR6ZK",
        "outputId": "4a4e0485-1390-412c-96ee-792dbc420488",
        "colab": {
          "base_uri": "https://localhost:8080/"
        }
      },
      "execution_count": 24,
      "outputs": [
        {
          "output_type": "stream",
          "name": "stdout",
          "text": [
            "Requirement already satisfied: pyfiglet in /usr/local/lib/python3.12/dist-packages (1.0.4)\n"
          ]
        }
      ]
    },
    {
      "cell_type": "code",
      "source": [
        "from pyfiglet import Figlet\n",
        "\n",
        "f = Figlet(font='doom')   # try 'slant', 'big', 'graffiti', 'doom'\n",
        "print(f.renderText('Hunted by the Deer Hunter'))\n",
        "main()"
      ],
      "metadata": {
        "colab": {
          "base_uri": "https://localhost:8080/",
          "height": 646
        },
        "id": "gNSbWwYo6XHT",
        "outputId": "2c807633-0c3d-4f9c-c823-8ba3c02d8dcc"
      },
      "execution_count": 35,
      "outputs": [
        {
          "output_type": "stream",
          "name": "stdout",
          "text": [
            " _   _             _           _   _             _   _          \n",
            "| | | |           | |         | | | |           | | | |         \n",
            "| |_| |_   _ _ __ | |_ ___  __| | | |__  _   _  | |_| |__   ___ \n",
            "|  _  | | | | '_ \\| __/ _ \\/ _` | | '_ \\| | | | | __| '_ \\ / _ \\\n",
            "| | | | |_| | | | | ||  __/ (_| | | |_) | |_| | | |_| | | |  __/\n",
            "\\_| |_/\\__,_|_| |_|\\__\\___|\\__,_| |_.__/ \\__, |  \\__|_| |_|\\___|\n",
            "                                          __/ |                 \n",
            "                                         |___/                  \n",
            "______                 _   _             _            \n",
            "|  _  \\               | | | |           | |           \n",
            "| | | |___  ___ _ __  | |_| |_   _ _ __ | |_ ___ _ __ \n",
            "| | | / _ \\/ _ \\ '__| |  _  | | | | '_ \\| __/ _ \\ '__|\n",
            "| |/ /  __/  __/ |    | | | | |_| | | | | ||  __/ |   \n",
            "|___/ \\___|\\___|_|    \\_| |_/\\__,_|_| |_|\\__\\___|_|   \n",
            "                                                      \n",
            "                                                      \n",
            "\n"
          ]
        },
        {
          "output_type": "error",
          "ename": "KeyboardInterrupt",
          "evalue": "Interrupted by user",
          "traceback": [
            "\u001b[0;31m---------------------------------------------------------------------------\u001b[0m",
            "\u001b[0;31mKeyboardInterrupt\u001b[0m                         Traceback (most recent call last)",
            "\u001b[0;32m/tmp/ipython-input-2326332294.py\u001b[0m in \u001b[0;36m<cell line: 0>\u001b[0;34m()\u001b[0m\n\u001b[1;32m      3\u001b[0m \u001b[0mf\u001b[0m \u001b[0;34m=\u001b[0m \u001b[0mFiglet\u001b[0m\u001b[0;34m(\u001b[0m\u001b[0mfont\u001b[0m\u001b[0;34m=\u001b[0m\u001b[0;34m'doom'\u001b[0m\u001b[0;34m)\u001b[0m   \u001b[0;31m# try 'slant', 'big', 'graffiti', 'doom'\u001b[0m\u001b[0;34m\u001b[0m\u001b[0;34m\u001b[0m\u001b[0m\n\u001b[1;32m      4\u001b[0m \u001b[0mprint\u001b[0m\u001b[0;34m(\u001b[0m\u001b[0mf\u001b[0m\u001b[0;34m.\u001b[0m\u001b[0mrenderText\u001b[0m\u001b[0;34m(\u001b[0m\u001b[0;34m'Hunted by the Deer Hunter'\u001b[0m\u001b[0;34m)\u001b[0m\u001b[0;34m)\u001b[0m\u001b[0;34m\u001b[0m\u001b[0;34m\u001b[0m\u001b[0m\n\u001b[0;32m----> 5\u001b[0;31m \u001b[0mmain\u001b[0m\u001b[0;34m(\u001b[0m\u001b[0;34m)\u001b[0m\u001b[0;34m\u001b[0m\u001b[0;34m\u001b[0m\u001b[0m\n\u001b[0m",
            "\u001b[0;32m/tmp/ipython-input-2308868938.py\u001b[0m in \u001b[0;36mmain\u001b[0;34m()\u001b[0m\n\u001b[1;32m      1\u001b[0m \u001b[0;32mdef\u001b[0m \u001b[0mmain\u001b[0m\u001b[0;34m(\u001b[0m\u001b[0;34m)\u001b[0m\u001b[0;34m:\u001b[0m\u001b[0;34m\u001b[0m\u001b[0;34m\u001b[0m\u001b[0m\n\u001b[0;32m----> 2\u001b[0;31m   \u001b[0mresponse\u001b[0m \u001b[0;34m=\u001b[0m \u001b[0mintro\u001b[0m\u001b[0;34m(\u001b[0m\u001b[0;34m)\u001b[0m\u001b[0;34m\u001b[0m\u001b[0;34m\u001b[0m\u001b[0m\n\u001b[0m\u001b[1;32m      3\u001b[0m   \u001b[0mchoice1\u001b[0m\u001b[0;34m(\u001b[0m\u001b[0mresponse\u001b[0m\u001b[0;34m)\u001b[0m\u001b[0;34m\u001b[0m\u001b[0;34m\u001b[0m\u001b[0m\n\u001b[1;32m      4\u001b[0m   \u001b[0mresponse\u001b[0m \u001b[0;34m=\u001b[0m \u001b[0mnext\u001b[0m\u001b[0;34m(\u001b[0m\u001b[0;34m)\u001b[0m\u001b[0;34m\u001b[0m\u001b[0;34m\u001b[0m\u001b[0m\n\u001b[1;32m      5\u001b[0m   \u001b[0mchoice2\u001b[0m\u001b[0;34m(\u001b[0m\u001b[0mresponse\u001b[0m\u001b[0;34m)\u001b[0m\u001b[0;34m\u001b[0m\u001b[0;34m\u001b[0m\u001b[0m\n",
            "\u001b[0;32m/tmp/ipython-input-2957538480.py\u001b[0m in \u001b[0;36mintro\u001b[0;34m()\u001b[0m\n\u001b[1;32m      1\u001b[0m \u001b[0;32mdef\u001b[0m \u001b[0mintro\u001b[0m\u001b[0;34m(\u001b[0m\u001b[0;34m)\u001b[0m\u001b[0;34m:\u001b[0m\u001b[0;34m\u001b[0m\u001b[0;34m\u001b[0m\u001b[0m\n\u001b[0;32m----> 2\u001b[0;31m   \u001b[0mresponse\u001b[0m \u001b[0;34m=\u001b[0m \u001b[0minput\u001b[0m\u001b[0;34m(\u001b[0m\u001b[0;34m\"You are running from a killer through the forest, do you to hide or keep running: hide or keep running: \"\u001b[0m\u001b[0;34m)\u001b[0m\u001b[0;34m\u001b[0m\u001b[0;34m\u001b[0m\u001b[0m\n\u001b[0m\u001b[1;32m      3\u001b[0m   \u001b[0;32mreturn\u001b[0m \u001b[0mresponse\u001b[0m\u001b[0;34m\u001b[0m\u001b[0;34m\u001b[0m\u001b[0m\n\u001b[1;32m      4\u001b[0m \u001b[0;32mdef\u001b[0m \u001b[0mnext\u001b[0m\u001b[0;34m(\u001b[0m\u001b[0;34m)\u001b[0m\u001b[0;34m:\u001b[0m\u001b[0;34m\u001b[0m\u001b[0;34m\u001b[0m\u001b[0m\n\u001b[1;32m      5\u001b[0m   \u001b[0mresponse\u001b[0m \u001b[0;34m=\u001b[0m \u001b[0minput\u001b[0m\u001b[0;34m(\u001b[0m\u001b[0;34m\"As you are running you can you could go into a old cabin: keep running or old cabin: \"\u001b[0m\u001b[0;34m)\u001b[0m\u001b[0;34m\u001b[0m\u001b[0;34m\u001b[0m\u001b[0m\n",
            "\u001b[0;32m/usr/local/lib/python3.12/dist-packages/ipykernel/kernelbase.py\u001b[0m in \u001b[0;36mraw_input\u001b[0;34m(self, prompt)\u001b[0m\n\u001b[1;32m   1175\u001b[0m                 \u001b[0;34m\"raw_input was called, but this frontend does not support input requests.\"\u001b[0m\u001b[0;34m\u001b[0m\u001b[0;34m\u001b[0m\u001b[0m\n\u001b[1;32m   1176\u001b[0m             )\n\u001b[0;32m-> 1177\u001b[0;31m         return self._input_request(\n\u001b[0m\u001b[1;32m   1178\u001b[0m             \u001b[0mstr\u001b[0m\u001b[0;34m(\u001b[0m\u001b[0mprompt\u001b[0m\u001b[0;34m)\u001b[0m\u001b[0;34m,\u001b[0m\u001b[0;34m\u001b[0m\u001b[0;34m\u001b[0m\u001b[0m\n\u001b[1;32m   1179\u001b[0m             \u001b[0mself\u001b[0m\u001b[0;34m.\u001b[0m\u001b[0m_parent_ident\u001b[0m\u001b[0;34m[\u001b[0m\u001b[0;34m\"shell\"\u001b[0m\u001b[0;34m]\u001b[0m\u001b[0;34m,\u001b[0m\u001b[0;34m\u001b[0m\u001b[0;34m\u001b[0m\u001b[0m\n",
            "\u001b[0;32m/usr/local/lib/python3.12/dist-packages/ipykernel/kernelbase.py\u001b[0m in \u001b[0;36m_input_request\u001b[0;34m(self, prompt, ident, parent, password)\u001b[0m\n\u001b[1;32m   1217\u001b[0m             \u001b[0;32mexcept\u001b[0m \u001b[0mKeyboardInterrupt\u001b[0m\u001b[0;34m:\u001b[0m\u001b[0;34m\u001b[0m\u001b[0;34m\u001b[0m\u001b[0m\n\u001b[1;32m   1218\u001b[0m                 \u001b[0;31m# re-raise KeyboardInterrupt, to truncate traceback\u001b[0m\u001b[0;34m\u001b[0m\u001b[0;34m\u001b[0m\u001b[0m\n\u001b[0;32m-> 1219\u001b[0;31m                 \u001b[0;32mraise\u001b[0m \u001b[0mKeyboardInterrupt\u001b[0m\u001b[0;34m(\u001b[0m\u001b[0;34m\"Interrupted by user\"\u001b[0m\u001b[0;34m)\u001b[0m \u001b[0;32mfrom\u001b[0m \u001b[0;32mNone\u001b[0m\u001b[0;34m\u001b[0m\u001b[0;34m\u001b[0m\u001b[0m\n\u001b[0m\u001b[1;32m   1220\u001b[0m             \u001b[0;32mexcept\u001b[0m \u001b[0mException\u001b[0m\u001b[0;34m:\u001b[0m\u001b[0;34m\u001b[0m\u001b[0;34m\u001b[0m\u001b[0m\n\u001b[1;32m   1221\u001b[0m                 \u001b[0mself\u001b[0m\u001b[0;34m.\u001b[0m\u001b[0mlog\u001b[0m\u001b[0;34m.\u001b[0m\u001b[0mwarning\u001b[0m\u001b[0;34m(\u001b[0m\u001b[0;34m\"Invalid Message:\"\u001b[0m\u001b[0;34m,\u001b[0m \u001b[0mexc_info\u001b[0m\u001b[0;34m=\u001b[0m\u001b[0;32mTrue\u001b[0m\u001b[0;34m)\u001b[0m\u001b[0;34m\u001b[0m\u001b[0;34m\u001b[0m\u001b[0m\n",
            "\u001b[0;31mKeyboardInterrupt\u001b[0m: Interrupted by user"
          ]
        }
      ]
    },
    {
      "cell_type": "code",
      "source": [
        "#x=0\n",
        "\n",
        "#while x < 5:\n",
        "  #print(\"hello\")\n",
        "  #x = x +1"
      ],
      "metadata": {
        "id": "S-XoFWjaBsd6"
      },
      "execution_count": 21,
      "outputs": []
    },
    {
      "cell_type": "code",
      "source": [
        "#def responseValidator(response):\n",
        "  #while response !=\"yes\" and response !=\"no\":\n",
        "    #response = input(\"Invalid Response: please type yes or no: \")\n",
        "   # return response"
      ],
      "metadata": {
        "id": "ggIKVZurCaYS"
      },
      "execution_count": 20,
      "outputs": []
    },
    {
      "cell_type": "code",
      "source": [
        "#def choice1():\n",
        "  #response1 = input(\"do you agree? yes or no\")\n",
        "  #response1 = responseValidator(response1)\n",
        "  #return response1"
      ],
      "metadata": {
        "id": "siH-d9k8DPFk"
      },
      "execution_count": 19,
      "outputs": []
    }
  ]
}