{
  "nbformat": 4,
  "nbformat_minor": 0,
  "metadata": {
    "colab": {
      "provenance": [],
      "include_colab_link": true
    },
    "kernelspec": {
      "name": "python3",
      "display_name": "Python 3"
    },
    "language_info": {
      "name": "python"
    }
  },
  "cells": [
    {
      "cell_type": "markdown",
      "metadata": {
        "id": "view-in-github",
        "colab_type": "text"
      },
      "source": [
        "<a href=\"https://colab.research.google.com/github/YSHS-APCSP-2526/text-based-adventure-218469-Torrin/blob/main/Text_Based_Adventure.ipynb\" target=\"_parent\"><img src=\"https://colab.research.google.com/assets/colab-badge.svg\" alt=\"Open In Colab\"/></a>"
      ]
    },
    {
      "cell_type": "markdown",
      "source": [
        "#Requirements for text based adventure\n",
        "1. You must have at least 2 different \"paths\" that are at least 4 decisions in length\n",
        "2. Include an element of randomness (from the random library)\n",
        "3. Include a list that is core to the text based adventure\n",
        "4. Include a function that is called within your program that includes a while loop, and a parameter that influences a conditional statement in your function.\n",
        "5. Commented Code.\n",
        "6. A [digital flowchart](https://docs.google.com/document/d/1p2k3wL6gzjYWBuWxwEQptmbbOZZNsQrthlC12SNtYgY/edit?usp=sharing) that follows accepted symbols for representing code. You can use google slides or [draw.io](https://www.drawio.com/) for the flowchart."
      ],
      "metadata": {
        "id": "zpSmche7G_jy"
      }
    },
    {
      "cell_type": "code",
      "source": [
        "def intro():\n",
        "  response = input(\"You are running from a killer through the forest, do you to hide or keep running: hide or keep running: \")\n",
        "  return response\n",
        "def next():\n",
        "  response = input(\"As you are running you can you could go into a old cabin: keep running or old cabin: \")\n",
        "  return response\n",
        "def run():\n",
        "  response = input(\"You find a road after running for a while: turn back, keep running, call for help: \")\n",
        "  return response\n",
        "def cabin():\n",
        "  response = input(\"you enter the cabin you have a choice of wepones to fight back: melee or ranged: \")\n",
        "  return response\n",
        "def knife():\n",
        "  response = input(\"you can either chose a: knife or sword: \")\n",
        "  return response\n",
        "def ranged():\n",
        "  response = input(\"you can either chose a: 9mm or flame thrower: \")"
      ],
      "metadata": {
        "id": "DToswc3clKpf"
      },
      "execution_count": 41,
      "outputs": []
    },
    {
      "cell_type": "code",
      "source": [
        "import random\n",
        "\n",
        "def randomDice():\n",
        "    roll = random.randint(1, 10)\n",
        "    return roll\n"
      ],
      "metadata": {
        "id": "DjXGTvvAGMPf"
      },
      "execution_count": 5,
      "outputs": []
    },
    {
      "cell_type": "code",
      "source": [
        "def choice1(response):\n",
        "  if response ==\"keep running\":\n",
        "    print(\"you keep running\")\n",
        "  else:\n",
        "    print(\"the killer findes you (RESTART).\")\n",
        "    main()\n",
        "def choice2(response):\n",
        "  if response ==\"old cabin\":\n",
        "    print(\"you go inside the old cabin\")\n",
        "    return response\n",
        "  else:\n",
        "    print(\"you keep running\")\n",
        "    return response\n",
        "def choice3(response):\n",
        "  roll = randomDice()\n",
        "  print(roll)\n",
        "  if response ==\"turn back\" and roll <= 5:\n",
        "    print(\"you turn back and run right into the killer (RESTART).\")\n",
        "  elif response ==\"turn back\" and roll > 5:\n",
        "    print(\"you run back to where you started\")\n",
        "    main()\n",
        "  elif response ==\"keep running\":\n",
        "    print(\"you run right into trafic and get hit by 1 semi and two SUV's (RESTART).\")\n",
        "    main()\n",
        "  else:\n",
        "    print(\"you call for help and someone pulles over to give you a ride. You escaped.\")\n",
        "def choice4(response):\n",
        "  if response ==\"melee\":\n",
        "    print(response)\n",
        "    print(\"you look at the melee wepones.\")\n",
        "def choice5(response):\n",
        "  if response ==\"knife\":\n",
        "    print(response)\n",
        "    print(\"you grab the first knife you can see, and you run out of the cabin into the killer, then you try to fight\")\n",
        "    print(\"but get choped to pieces by his axe (RESTART).\")\n",
        "    main()\n",
        "  else:\n",
        "    print(response)\n",
        "    print(\"you grab the sword and charge out the door, and run strait into the killer with the point of the sword going\")\n",
        "    print(\"right through his chest, but you did also run into the blade of his axe, and yet you escape and live\")\n",
        "    print(\"YOU ESCAPED\")\n",
        "    def choice6(response)\n",
        "      if ==\"ranged\":\n",
        ""
      ],
      "metadata": {
        "id": "_EdosxmH81_Y"
      },
      "execution_count": 52,
      "outputs": []
    },
    {
      "cell_type": "code",
      "source": [
        "def main():\n",
        "  response = intro()\n",
        "  choice1(response)\n",
        "  response = next()\n",
        "\n",
        "  if response ==\"old cabin\":\n",
        "    response = cabin()\n",
        "    choice4(response)\n",
        "    if response ==\"melee\":\n",
        "      response = knife()\n",
        "      choice5(response)\n",
        "    else:\n",
        "      response = ranged()\n",
        "      choice6(response)\n",
        "  else:\n",
        "    choice2(response)\n",
        "    response = run()\n",
        "    choice3(response)"
      ],
      "metadata": {
        "id": "LQuG-KfJlMj3"
      },
      "execution_count": 39,
      "outputs": []
    },
    {
      "cell_type": "code",
      "source": [
        "!pip install pyfiglet"
      ],
      "metadata": {
        "colab": {
          "base_uri": "https://localhost:8080/"
        },
        "id": "B0tQRAUFR6ZK",
        "outputId": "50abda5d-67e4-4383-eaaa-e17869c61fe6"
      },
      "execution_count": 2,
      "outputs": [
        {
          "output_type": "stream",
          "name": "stdout",
          "text": [
            "Collecting pyfiglet\n",
            "  Downloading pyfiglet-1.0.4-py3-none-any.whl.metadata (7.4 kB)\n",
            "Downloading pyfiglet-1.0.4-py3-none-any.whl (1.8 MB)\n",
            "\u001b[2K   \u001b[90m━━━━━━━━━━━━━━━━━━━━━━━━━━━━━━━━━━━━━━━━\u001b[0m \u001b[32m1.8/1.8 MB\u001b[0m \u001b[31m18.8 MB/s\u001b[0m eta \u001b[36m0:00:00\u001b[0m\n",
            "\u001b[?25hInstalling collected packages: pyfiglet\n",
            "Successfully installed pyfiglet-1.0.4\n"
          ]
        }
      ]
    },
    {
      "cell_type": "code",
      "source": [
        "from pyfiglet import Figlet\n",
        "\n",
        "f = Figlet(font='doom')   # try 'slant', 'big', 'graffiti', 'doom'\n",
        "print(f.renderText('Hunted by the Deer Hunter'))\n",
        "main()"
      ],
      "metadata": {
        "colab": {
          "base_uri": "https://localhost:8080/"
        },
        "id": "gNSbWwYo6XHT",
        "outputId": "3b20b9c2-2c0d-40bd-c8d7-2c9fcb2b1dbb"
      },
      "execution_count": 53,
      "outputs": [
        {
          "output_type": "stream",
          "name": "stdout",
          "text": [
            " _   _             _           _   _             _   _          \n",
            "| | | |           | |         | | | |           | | | |         \n",
            "| |_| |_   _ _ __ | |_ ___  __| | | |__  _   _  | |_| |__   ___ \n",
            "|  _  | | | | '_ \\| __/ _ \\/ _` | | '_ \\| | | | | __| '_ \\ / _ \\\n",
            "| | | | |_| | | | | ||  __/ (_| | | |_) | |_| | | |_| | | |  __/\n",
            "\\_| |_/\\__,_|_| |_|\\__\\___|\\__,_| |_.__/ \\__, |  \\__|_| |_|\\___|\n",
            "                                          __/ |                 \n",
            "                                         |___/                  \n",
            "______                 _   _             _            \n",
            "|  _  \\               | | | |           | |           \n",
            "| | | |___  ___ _ __  | |_| |_   _ _ __ | |_ ___ _ __ \n",
            "| | | / _ \\/ _ \\ '__| |  _  | | | | '_ \\| __/ _ \\ '__|\n",
            "| |/ /  __/  __/ |    | | | | |_| | | | | ||  __/ |   \n",
            "|___/ \\___|\\___|_|    \\_| |_/\\__,_|_| |_|\\__\\___|_|   \n",
            "                                                      \n",
            "                                                      \n",
            "\n",
            "You are running from a killer through the forest, do you to hide or keep running: hide or keep running: keep running\n",
            "you keep running\n",
            "As you are running you can you could go into a old cabin: keep running or old cabin: old cabin\n",
            "you enter the cabin you have a choice of wepones to fight back: melee or ranged: melee\n",
            "melee\n",
            "you look at the melee wepones.\n",
            "you can either chose a wepone: knife or sword: sword\n",
            "sword\n",
            "you grab the sword and charge out the door, and run strait into the killer with the point of the sword going\n",
            "right through his chest, but you did also run into the blade of his axe, and yet you escape and live\n",
            "YOU ESCAPED\n"
          ]
        }
      ]
    },
    {
      "cell_type": "code",
      "source": [
        "#x=0\n",
        "\n",
        "#while x < 5:\n",
        "  #print(\"hello\")\n",
        "  #x = x +1"
      ],
      "metadata": {
        "id": "S-XoFWjaBsd6"
      },
      "execution_count": 21,
      "outputs": []
    },
    {
      "cell_type": "code",
      "source": [
        "#def responseValidator(response):\n",
        "  #while response !=\"yes\" and response !=\"no\":\n",
        "    #response = input(\"Invalid Response: please type yes or no: \")\n",
        "   # return response"
      ],
      "metadata": {
        "id": "ggIKVZurCaYS"
      },
      "execution_count": 20,
      "outputs": []
    },
    {
      "cell_type": "code",
      "source": [
        "#def choice1():\n",
        "  #response1 = input(\"do you agree? yes or no\")\n",
        "  #response1 = responseValidator(response1)\n",
        "  #return response1"
      ],
      "metadata": {
        "id": "siH-d9k8DPFk"
      },
      "execution_count": 19,
      "outputs": []
    }
  ]
}